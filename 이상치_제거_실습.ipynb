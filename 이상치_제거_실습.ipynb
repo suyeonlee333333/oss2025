{
  "nbformat": 4,
  "nbformat_minor": 0,
  "metadata": {
    "colab": {
      "provenance": [],
      "authorship_tag": "ABX9TyMj8Qmx5kixLFNfZCq8dLZM",
      "include_colab_link": true
    },
    "kernelspec": {
      "name": "python3",
      "display_name": "Python 3"
    },
    "language_info": {
      "name": "python"
    }
  },
  "cells": [
    {
      "cell_type": "markdown",
      "metadata": {
        "id": "view-in-github",
        "colab_type": "text"
      },
      "source": [
        "<a href=\"https://colab.research.google.com/github/suyeonlee333333/oss2025/blob/main/%EC%9D%B4%EC%83%81%EC%B9%98_%EC%A0%9C%EA%B1%B0_%EC%8B%A4%EC%8A%B5.ipynb\" target=\"_parent\"><img src=\"https://colab.research.google.com/assets/colab-badge.svg\" alt=\"Open In Colab\"/></a>"
      ]
    },
    {
      "cell_type": "code",
      "execution_count": 3,
      "metadata": {
        "colab": {
          "base_uri": "https://localhost:8080/"
        },
        "id": "t8KJgbup1gUe",
        "outputId": "7e8e69de-e866-4b93-cd47-d77b6e52e1f8"
      },
      "outputs": [
        {
          "output_type": "stream",
          "name": "stdout",
          "text": [
            "이상치 제거 전:\n",
            " [ 10  12  14  15  18 100  13  11  12  14  13  12  15]\n",
            "\n",
            "이상치 제거 후:\n",
            " [10 12 14 15 18 13 11 12 14 13 12 15]\n",
            "\n",
            "표준화 결과:\n",
            " [-1.58820278 -0.61084722  0.36650833  0.85518611  2.32121944 -0.12216944\n",
            " -1.099525   -0.61084722  0.36650833 -0.12216944 -0.61084722  0.85518611]\n",
            "\n",
            "정규화 결과:\n",
            " [0.    0.25  0.5   0.625 1.    0.375 0.125 0.25  0.5   0.375 0.25  0.625]\n"
          ]
        }
      ],
      "source": [
        "import numpy as np\n",
        "import pandas as pd\n",
        "\n",
        "data = np.array([10, 12, 14, 15, 18, 100, 13, 11, 12, 14, 13, 12, 15])\n",
        "\n",
        "df = pd.DataFrame(data, columns=['data'])\n",
        "\n",
        "q3_data = df['data'].quantile(q=0.75)\n",
        "q1_data = df['data'].quantile(q=0.25)\n",
        "iqr_data = q3_data - q1_data\n",
        "\n",
        "upper_bound = q3_data + 1.5 * iqr_data\n",
        "lower_bound = q1_data - 1.5 * iqr_data\n",
        "\n",
        "outliers = df[(df['data'] > upper_bound) | (df['data'] < lower_bound)]\n",
        "\n",
        "clean_data = df[(df['data'] <= upper_bound) & (df['data'] >= lower_bound)]['data']\n",
        "\n",
        "data_min = np.min(clean_data)\n",
        "data_max = np.max(clean_data)\n",
        "normalized = (clean_data - data_min) / (data_max - data_min)\n",
        "\n",
        "mean = np.mean(clean_data)\n",
        "std = np.std(clean_data)\n",
        "standardized = (clean_data - mean) / std\n",
        "\n",
        "print(\"이상치 제거 전:\\n\", data)\n",
        "print(\"\\n이상치 제거 후:\\n\", clean_data.values)\n",
        "print(\"\\n표준화 결과:\\n\", standardized.values)\n",
        "print(\"\\n정규화 결과:\\n\", normalized.values)"
      ]
    }
  ]
}