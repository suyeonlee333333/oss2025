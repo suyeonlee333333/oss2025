{
  "nbformat": 4,
  "nbformat_minor": 0,
  "metadata": {
    "colab": {
      "provenance": [],
      "authorship_tag": "ABX9TyNvpTRY+iZ9NTYbgBON0GSi",
      "include_colab_link": true
    },
    "kernelspec": {
      "name": "python3",
      "display_name": "Python 3"
    },
    "language_info": {
      "name": "python"
    }
  },
  "cells": [
    {
      "cell_type": "markdown",
      "metadata": {
        "id": "view-in-github",
        "colab_type": "text"
      },
      "source": [
        "<a href=\"https://colab.research.google.com/github/suyeonlee333333/oss2025/blob/main/%ED%95%A8%EC%88%98_%EB%AC%B8%EC%A0%9C.ipynb\" target=\"_parent\"><img src=\"https://colab.research.google.com/assets/colab-badge.svg\" alt=\"Open In Colab\"/></a>"
      ]
    },
    {
      "cell_type": "code",
      "execution_count": 19,
      "metadata": {
        "colab": {
          "base_uri": "https://localhost:8080/"
        },
        "id": "VZqrV-uToNEx",
        "outputId": "7e49eca2-06af-403c-9f1c-339a81326984"
      },
      "outputs": [
        {
          "output_type": "stream",
          "name": "stdout",
          "text": [
            "첫번째 수 1\n",
            "두번째 수 2\n",
            "3\n"
          ]
        }
      ],
      "source": [
        "def sum2 (num1,num2):\n",
        "  result =num1+num2\n",
        "  return(result)\n",
        "num1=int(input(\"첫번째 수 \"))\n",
        "num2=int(input(\"두번째 수 \"))\n",
        "result = sum2(num1,num2)\n",
        "print(result)"
      ]
    },
    {
      "cell_type": "code",
      "source": [
        "def print_list(list):\n",
        "  for item in list:\n",
        "    if item !=0:\n",
        "      print(item)\n",
        "print_list([1,2,3,0])"
      ],
      "metadata": {
        "colab": {
          "base_uri": "https://localhost:8080/"
        },
        "id": "OF9YDU0Uruvc",
        "outputId": "34c99de5-41f0-464a-e69f-88ac1f57d611"
      },
      "execution_count": 20,
      "outputs": [
        {
          "output_type": "stream",
          "name": "stdout",
          "text": [
            "1\n",
            "2\n",
            "3\n"
          ]
        }
      ]
    },
    {
      "cell_type": "code",
      "source": [
        "def gugudan():\n",
        "  n=int(input(\"N단을 입력하세요: \"))\n",
        "  while True:\n",
        "      if n==0:\n",
        "        break\n",
        "      for i in range(1,10):\n",
        "        print(f\"{n} X {i} = {n*i}\")\n",
        "      break\n",
        "gugudan()"
      ],
      "metadata": {
        "colab": {
          "base_uri": "https://localhost:8080/"
        },
        "id": "daDjXqTmwmSs",
        "outputId": "62fba9bd-682b-49f8-d623-fd25680d32ab"
      },
      "execution_count": 37,
      "outputs": [
        {
          "output_type": "stream",
          "name": "stdout",
          "text": [
            "N단을 입력하세요: 2\n",
            "2 X 1 = 2\n",
            "2 X 2 = 4\n",
            "2 X 3 = 6\n",
            "2 X 4 = 8\n",
            "2 X 5 = 10\n",
            "2 X 6 = 12\n",
            "2 X 7 = 14\n",
            "2 X 8 = 16\n",
            "2 X 9 = 18\n"
          ]
        }
      ]
    },
    {
      "cell_type": "code",
      "source": [
        "score=[55,82,34,98,76,62]\n",
        "max=score[0]\n",
        "for i in range (0,5):\n",
        "  if (max<score[i]):\n",
        "    max=score[i]\n",
        "print(max)"
      ],
      "metadata": {
        "colab": {
          "base_uri": "https://localhost:8080/"
        },
        "id": "nAc7HEqh2D41",
        "outputId": "266c4fa8-c335-401e-96d6-87d2e4c41424"
      },
      "execution_count": 38,
      "outputs": [
        {
          "output_type": "stream",
          "name": "stdout",
          "text": [
            "98\n"
          ]
        }
      ]
    },
    {
      "cell_type": "code",
      "source": [
        "print(\"현재 음량은 3입니다.\")\n",
        "up=int (input(\"증가시킬 만큼의 음량을 입력: \"))\n",
        "sound=up+3\n",
        "print(f\"증가 후의 음량은 {sound} 입니다.\")"
      ],
      "metadata": {
        "colab": {
          "base_uri": "https://localhost:8080/"
        },
        "id": "R-OH81-E5MXN",
        "outputId": "52fdea10-a703-47f1-966b-1b5d077d3de7"
      },
      "execution_count": 41,
      "outputs": [
        {
          "output_type": "stream",
          "name": "stdout",
          "text": [
            "현재 음량은 3입니다.\n",
            "증가시킬 만큼의 음량을 입력: 9\n",
            "증가 후의 음량은 12 입니다.\n"
          ]
        }
      ]
    },
    {
      "cell_type": "code",
      "source": [
        "list=['yujin','suzi','jisu','jennie','rose','risa']\n",
        "name=(input(\"이름을 입력하세요: \"))\n",
        "if name in list:\n",
        "  print(\"출근이 완료되었습니다\")\n",
        "else:\n",
        "  print(\"출근이 불가합니다\")"
      ],
      "metadata": {
        "colab": {
          "base_uri": "https://localhost:8080/"
        },
        "id": "maGm8fhe57l2",
        "outputId": "a2da9bdb-748d-401b-e2cf-e427e37ada92"
      },
      "execution_count": 43,
      "outputs": [
        {
          "output_type": "stream",
          "name": "stdout",
          "text": [
            "이름을 입력하세요: yujin\n",
            "출근이 완료되었습니다\n"
          ]
        }
      ]
    },
    {
      "cell_type": "code",
      "source": [
        "num1, num2, k=input(\"계산할 수와 연산 기호를 입력: \").split()\n",
        "def calc(k):\n",
        "  if k=='+':\n",
        "    lamdaplus(num1,num2)\n",
        "  elif k=='-':\n",
        "    lamdaminus(num1,num2)\n",
        "  elif k=='*':\n",
        "    lamdam(num1,num2)\n",
        "  elif k=='/':\n",
        "    lamdad(num1,num2)\n",
        "\n",
        "def lamdaplus(num1,num2):\n",
        "  result = num1 + num2\n",
        "  disp()\n",
        "def lamdaminus(num1,num2):\n",
        "    result = num1 - num2\n",
        "    disp()\n",
        "def lamdam(num1,num2):\n",
        "  result = num1 + num2\n",
        "  disp()\n",
        "def lamdad(num1,num2):\n",
        "  result = num1 + num2\n",
        "  disp()\n",
        "\n",
        "def disp():\n",
        "  print(f\"{num1} {k} {num2} = {result}\")\n",
        "calc(k)"
      ],
      "metadata": {
        "colab": {
          "base_uri": "https://localhost:8080/"
        },
        "id": "NfEibice6kD_",
        "outputId": "e16f6a77-1240-479d-a667-efba16756ace"
      },
      "execution_count": 53,
      "outputs": [
        {
          "output_type": "stream",
          "name": "stdout",
          "text": [
            "계산할 수와 연산 기호를 입력2 3 +\n",
            "2 + 3 = 3\n"
          ]
        }
      ]
    }
  ]
}