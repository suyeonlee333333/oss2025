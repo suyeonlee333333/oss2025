{
  "nbformat": 4,
  "nbformat_minor": 0,
  "metadata": {
    "colab": {
      "provenance": [],
      "authorship_tag": "ABX9TyPVXnpcpZZKxYo5RrHCLyE0",
      "include_colab_link": true
    },
    "kernelspec": {
      "name": "python3",
      "display_name": "Python 3"
    },
    "language_info": {
      "name": "python"
    }
  },
  "cells": [
    {
      "cell_type": "markdown",
      "metadata": {
        "id": "view-in-github",
        "colab_type": "text"
      },
      "source": [
        "<a href=\"https://colab.research.google.com/github/suyeonlee333333/oss2025/blob/main/Untitled4.ipynb\" target=\"_parent\"><img src=\"https://colab.research.google.com/assets/colab-badge.svg\" alt=\"Open In Colab\"/></a>"
      ]
    },
    {
      "cell_type": "code",
      "execution_count": null,
      "metadata": {
        "colab": {
          "base_uri": "https://localhost:8080/"
        },
        "id": "TrUkxx6TnkeE",
        "outputId": "228ccf93-1c9d-47f5-ca05-02226970f884"
      },
      "outputs": [
        {
          "output_type": "stream",
          "name": "stdout",
          "text": [
            "        Location  Population % of world         Date  \\\n",
            "0          World  8135342470       100%  30 Mar 2025   \n",
            "1          India  1413324000      17.3%   1 Mar 2025   \n",
            "2          China  1408280000      17.2%  31 Dec 2024   \n",
            "3  United States   340110988       4.2%   1 Jul 2024   \n",
            "4      Indonesia   282477584       3.5%  30 Jun 2024   \n",
            "5       Pakistan   241499431       3.0%   1 Mar 2023   \n",
            "6        Nigeria   223800000       2.7%   1 Jul 2023   \n",
            "7         Brazil   212583750       2.6%   1 Jul 2024   \n",
            "8     Bangladesh   169828911       2.1%  14 Jun 2022   \n",
            "9         Russia   146028325       1.8%   1 Jan 2025   \n",
            "\n",
            "  Source (official or from the United Nations) Notes  \n",
            "0                          UN projection[1][3]   NaN  \n",
            "1                       Official projection[4]   [b]  \n",
            "2                         Official estimate[5]   [c]  \n",
            "3                         Official estimate[6]   [d]  \n",
            "4                National annual projection[7]   NaN  \n",
            "5                        2023 census result[8]   [e]  \n",
            "6                       Official projection[9]   NaN  \n",
            "7                      Official projection[10]   NaN  \n",
            "8                       2022 census result[11]   [f]  \n",
            "9                        Official estimate[13]   [g]  \n"
          ]
        }
      ],
      "source": [
        "import pandas as pd\n",
        "url=\"https://en.wikipedia.org/wiki/List_of_countries_and_dependencies_by_population\"\n",
        "kbo_tb=pd.read_html(url)\n",
        "print(kbo_tb[0].head(10))"
      ]
    }
  ]
}