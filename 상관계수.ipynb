{
  "nbformat": 4,
  "nbformat_minor": 0,
  "metadata": {
    "colab": {
      "provenance": [],
      "authorship_tag": "ABX9TyNWxAJGvNNWAu4N4HcaiNfa",
      "include_colab_link": true
    },
    "kernelspec": {
      "name": "python3",
      "display_name": "Python 3"
    },
    "language_info": {
      "name": "python"
    }
  },
  "cells": [
    {
      "cell_type": "markdown",
      "metadata": {
        "id": "view-in-github",
        "colab_type": "text"
      },
      "source": [
        "<a href=\"https://colab.research.google.com/github/suyeonlee333333/oss2025/blob/main/%EC%83%81%EA%B4%80%EA%B3%84%EC%88%98.ipynb\" target=\"_parent\"><img src=\"https://colab.research.google.com/assets/colab-badge.svg\" alt=\"Open In Colab\"/></a>"
      ]
    },
    {
      "cell_type": "code",
      "execution_count": 5,
      "metadata": {
        "colab": {
          "base_uri": "https://localhost:8080/"
        },
        "id": "4c0QPEWj652c",
        "outputId": "29a5b869-e394-4853-8a9b-2e9f5d31cb20"
      },
      "outputs": [
        {
          "output_type": "stream",
          "name": "stdout",
          "text": [
            "피어슨 상관계수:\n",
            "                  study_hours  sleep_hours  attendance_rate  assignment_score  \\\n",
            "study_hours          1.000000     0.136251         0.833289          0.963967   \n",
            "sleep_hours          0.136251     1.000000         0.192251          0.265775   \n",
            "attendance_rate      0.833289     0.192251         1.000000          0.926571   \n",
            "assignment_score     0.963967     0.265775         0.926571          1.000000   \n",
            "part_time_hours     -0.948178    -0.140303        -0.952637         -0.979213   \n",
            "exam_score           0.962198     0.242629         0.931816          0.993560   \n",
            "\n",
            "                  part_time_hours  exam_score  \n",
            "study_hours             -0.948178    0.962198  \n",
            "sleep_hours             -0.140303    0.242629  \n",
            "attendance_rate         -0.952637    0.931816  \n",
            "assignment_score        -0.979213    0.993560  \n",
            "part_time_hours          1.000000   -0.984006  \n",
            "exam_score              -0.984006    1.000000  \n",
            "스피어만 상관계수:\n",
            "                  study_hours  sleep_hours  attendance_rate  assignment_score  \\\n",
            "study_hours          1.000000     0.076222         0.844072          0.990867   \n",
            "sleep_hours          0.076222     1.000000        -0.037763          0.075525   \n",
            "attendance_rate      0.844072    -0.037763         1.000000          0.878788   \n",
            "assignment_score     0.990867     0.075525         0.878788          1.000000   \n",
            "part_time_hours     -0.954169    -0.056644        -0.939394         -0.975758   \n",
            "exam_score           0.990867     0.075525         0.878788          1.000000   \n",
            "\n",
            "                  part_time_hours  exam_score  \n",
            "study_hours             -0.954169    0.990867  \n",
            "sleep_hours             -0.056644    0.075525  \n",
            "attendance_rate         -0.939394    0.878788  \n",
            "assignment_score        -0.975758    1.000000  \n",
            "part_time_hours          1.000000   -0.975758  \n",
            "exam_score              -0.975758    1.000000  \n",
            "켄달 상관계수:\n",
            "                  study_hours  sleep_hours  attendance_rate  assignment_score  \\\n",
            "study_hours          1.000000     0.076102         0.690066          0.966092   \n",
            "sleep_hours          0.076102     1.000000         0.024507          0.073521   \n",
            "attendance_rate      0.690066     0.024507         1.000000          0.733333   \n",
            "assignment_score     0.966092     0.073521         0.733333          1.000000   \n",
            "part_time_hours     -0.874083    -0.073521        -0.822222         -0.911111   \n",
            "exam_score           0.966092     0.073521         0.733333          1.000000   \n",
            "\n",
            "                  part_time_hours  exam_score  \n",
            "study_hours             -0.874083    0.966092  \n",
            "sleep_hours             -0.073521    0.073521  \n",
            "attendance_rate         -0.822222    0.733333  \n",
            "assignment_score        -0.911111    1.000000  \n",
            "part_time_hours          1.000000   -0.911111  \n",
            "exam_score              -0.911111    1.000000  \n"
          ]
        }
      ],
      "source": [
        "import pandas as pd\n",
        "data = {\n",
        "    \"study_hours\":     [2, 3, 4, 5, 6, 7, 8, 2, 3, 6],\n",
        "    \"sleep_hours\":     [6, 7, 5, 6, 8, 5, 6, 4, 7, 6],\n",
        "    \"attendance_rate\": [80, 85, 90, 95, 88, 92, 96, 70, 78, 94],\n",
        "    \"assignment_score\":[60, 70, 75, 80, 85, 90, 95, 50, 65, 88],\n",
        "    \"part_time_hours\": [10, 8, 5, 3, 4, 2, 0, 12, 9, 1],\n",
        "    \"exam_score\":      [65, 70, 78, 85, 88, 92, 95, 55, 68, 90]\n",
        "}\n",
        "\n",
        "df=pd.DataFrame(data)\n",
        "coef=df.corr(method='pearson')\n",
        "print(\"피어슨 상관계수:\")\n",
        "print(coef)\n",
        "\n",
        "spearmanCoef=df.corr(method='spearman')\n",
        "print(\"스피어만 상관계수:\")\n",
        "print(spearmanCoef)\n",
        "\n",
        "kendallCoef=df.corr(method='kendall')\n",
        "print(\"켄달 상관계수:\")\n",
        "print(kendallCoef)"
      ]
    }
  ]
}