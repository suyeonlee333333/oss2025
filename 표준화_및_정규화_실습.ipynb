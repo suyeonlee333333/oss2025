{
  "nbformat": 4,
  "nbformat_minor": 0,
  "metadata": {
    "colab": {
      "provenance": [],
      "authorship_tag": "ABX9TyOwzrNemhiDyBC4K18X2+9p",
      "include_colab_link": true
    },
    "kernelspec": {
      "name": "python3",
      "display_name": "Python 3"
    },
    "language_info": {
      "name": "python"
    }
  },
  "cells": [
    {
      "cell_type": "markdown",
      "metadata": {
        "id": "view-in-github",
        "colab_type": "text"
      },
      "source": [
        "<a href=\"https://colab.research.google.com/github/suyeonlee333333/oss2025/blob/main/%ED%91%9C%EC%A4%80%ED%99%94_%EB%B0%8F_%EC%A0%95%EA%B7%9C%ED%99%94_%EC%8B%A4%EC%8A%B5.ipynb\" target=\"_parent\"><img src=\"https://colab.research.google.com/assets/colab-badge.svg\" alt=\"Open In Colab\"/></a>"
      ]
    },
    {
      "cell_type": "code",
      "execution_count": 3,
      "metadata": {
        "colab": {
          "base_uri": "https://localhost:8080/"
        },
        "id": "t8KJgbup1gUe",
        "outputId": "f15b818e-c637-4091-f0f8-3f80105703a4"
      },
      "outputs": [
        {
          "output_type": "stream",
          "name": "stdout",
          "text": [
            "원본 데이터:  [10 20 30 40 50]\n",
            "표준화 결과:  [-1.41421356 -0.70710678  0.          0.70710678  1.41421356]\n",
            "정규화 결과:  [0.   0.25 0.5  0.75 1.  ]\n"
          ]
        }
      ],
      "source": [
        "import numpy as np\n",
        "data=np.array([10,20,30,40,50])\n",
        "\n",
        "data_min=np.min(data)\n",
        "data_max=np.max(data)\n",
        "normalized = (data-data_min)/ (data_max-data_min)\n",
        "\n",
        "mean=np.mean(data)\n",
        "std=np.std(data)\n",
        "standardized=(data-mean)/std\n",
        "\n",
        "print(\"원본 데이터: \", data)\n",
        "print(\"표준화 결과: \", standardized)\n",
        "print(\"정규화 결과: \",normalized)"
      ]
    }
  ]
}