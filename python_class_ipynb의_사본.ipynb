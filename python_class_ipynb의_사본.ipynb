{
  "nbformat": 4,
  "nbformat_minor": 0,
  "metadata": {
    "colab": {
      "provenance": [],
      "authorship_tag": "ABX9TyMY1iQ880opiWaKdCMIHoWZ",
      "include_colab_link": true
    },
    "kernelspec": {
      "name": "python3",
      "display_name": "Python 3"
    },
    "language_info": {
      "name": "python"
    }
  },
  "cells": [
    {
      "cell_type": "markdown",
      "metadata": {
        "id": "view-in-github",
        "colab_type": "text"
      },
      "source": [
        "<a href=\"https://colab.research.google.com/github/suyeonlee333333/oss2025/blob/main/python_class_ipynb%EC%9D%98_%EC%82%AC%EB%B3%B8.ipynb\" target=\"_parent\"><img src=\"https://colab.research.google.com/assets/colab-badge.svg\" alt=\"Open In Colab\"/></a>"
      ]
    },
    {
      "cell_type": "code",
      "source": [
        "##2번 문제\n",
        "# 게임 캐릭터를 나타내는 클래스 character를 구현하라. 각 캐릭터는 name과 life를 가진다. 함수는 공격을 1회 받을 때 체력이 10씩 감소한다.\n",
        "# 이를 통해 세 개 이상의 캐릭터를 생성하고 세 개의 캐릭터가 랜덤하게 공격받게 출력하라\n",
        "import random\n",
        "class Character:\n",
        "    def __init__(self,name,life):\n",
        "        self.name=name\n",
        "        self.life=life\n",
        "\n",
        "def strength(character):\n",
        "        character.life-=10\n",
        "        if (character.life==0):\n",
        "            print(f\"{character.name}가 공격받음! 생명력:0\")\n",
        "            print(f\"{character.name}가 죽었습니다!\")\n",
        "            return;\n",
        "        print(f\"{character.name}가 공격받음! 생명력:{character.life}\")\n",
        "\n",
        "\n",
        "champ1=Character(\"신지드\",1000)\n",
        "champ2=Character(\"징크스\",600)\n",
        "champ3=Character(\"크산테\",900)\n",
        "attack_num=int(input(\"공격 받을 횟수를 입력하세요: \"))\n",
        "while (attack_num>0):\n",
        "    attack_ch = random.randint(1, 3)\n",
        "    if attack_ch==1:\n",
        "        strength(champ1)\n",
        "    elif attack_ch==2:\n",
        "        strength(champ2)\n",
        "    elif attack_ch==3:\n",
        "        strength(champ3)\n",
        "    attack_num-=1"
      ],
      "metadata": {
        "colab": {
          "base_uri": "https://localhost:8080/"
        },
        "id": "mYGKbUkZJsmn",
        "outputId": "e7372e07-3a91-44b2-8ab4-80193ccc4d61"
      },
      "execution_count": null,
      "outputs": [
        {
          "output_type": "stream",
          "name": "stdout",
          "text": [
            "공격 받을 횟수를 입력하세요: 6\n",
            "크산테가 공격받음! 생명력:890\n",
            "신지드가 공격받음! 생명력:990\n",
            "크산테가 공격받음! 생명력:880\n",
            "크산테가 공격받음! 생명력:870\n",
            "크산테가 공격받음! 생명력:860\n",
            "징크스가 공격받음! 생명력:590\n"
          ]
        }
      ]
    },
    {
      "cell_type": "code",
      "execution_count": null,
      "metadata": {
        "colab": {
          "base_uri": "https://localhost:8080/"
        },
        "id": "4jJGGvBRJdoX",
        "outputId": "57a0227a-eedd-49e5-d9fe-e7a905ed0f83"
      },
      "outputs": [
        {
          "output_type": "stream",
          "name": "stdout",
          "text": [
            "SuYeon is 21 years old\n",
            "SangJae is 23 years old\n"
          ]
        }
      ],
      "source": [
        "## 4번 문제\n",
        "\n",
        "# name과 age를 인스턴스 변수로 가지는 클래스 Person을 구현하라. 생성자도 구현하고\n",
        "# 2명 이상의 Person 인스턴스를 생성한 후 get_name()과 get_age() 인스턴스 함수를 통해 이름과 나이를 출력할 수 있도록 하라\n",
        "class Person:\n",
        "    def __init__(self, name, age):\n",
        "        self.name = name\n",
        "        self.age = age\n",
        "\n",
        "    def say(self):\n",
        "        print(f\"{self.name} is {self.age} years old\")\n",
        "\n",
        "    def get_name(self):\n",
        "        return self.name\n",
        "\n",
        "    def get_age(self):\n",
        "        return self.age\n",
        "\n",
        "a=Person(\"SuYeon\",21)\n",
        "b=Person(\"SangJae\",23)\n",
        "\n",
        "a.say()\n",
        "b.say()"
      ]
    }
  ]
}